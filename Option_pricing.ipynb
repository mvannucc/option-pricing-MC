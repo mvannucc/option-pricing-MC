{
 "cells": [
  {
   "cell_type": "markdown",
   "id": "a3d8f309",
   "metadata": {},
   "source": [
    "<h1 style=\"text-align: center;\">Option Pricing</h1>\n",
    "\n",
    "---"
   ]
  },
  {
   "cell_type": "markdown",
   "id": "b333c80d",
   "metadata": {},
   "source": [
    "This project explores the use of Monte Carlo methods for pricing European and binary call options under the risk-neutral measure by simulating the underlying stock dynamics, using various numerical schemes.  \n",
    "The first section provides a brief introduction to Monte Carlo techniques and their application in option pricing. It is followed by an overview of the three simulation methods used to generate stock price paths: Euler–Maruyama, Milstein, and the closed-form solution. The convergence of the first two will be discussed and numerically measured as well.\n",
    "Next, the features and payoffs of European and binary call options are discussed, along with their pricing using the Black–Scholes framework.\n",
    "The implementation of Monte Carlo pricing for both option types is then presented, with results systematically compared to the analytical Black–Scholes benchmarks.  \n",
    "Subsequently, key model parameters are varied individually to investigate their impact on option prices. The effects are analyzed in detail, with comparisons across the different numerical schemes and the exact solution. The final section examines the asymptotic behavior of option prices and their dependence on moneyness.  \n",
    "The project concludes with a summary of key findings and insights, followed by a references section."
   ]
  },
  {
   "cell_type": "markdown",
   "id": "83201e55",
   "metadata": {},
   "source": [
    "<div style=\"font-size:20px; font-weight: bold;\">Index</div>\n",
    "\n",
    "1. **Introduction to Monte Carlo Methods**\n",
    "2. **Simulation Methods for Underlying Stock Price**\n",
    "    - 2.1 Initial parameters\n",
    "    - 2.2 Implementation of Stock Price Simulation Methods\n",
    "    - 2.3 Convergence\n",
    "3. **European and Binary Call Options**\n",
    "    - 3.1 Pricing Options\n",
    "    - 3.2 Methods Validation\n",
    "4. **Sensitivity Analysis**\n",
    "    - 4.1 Analysis Framework\n",
    "5. **Results**\n",
    "    - 5.1 Volatility\n",
    "    - 5.2 Risk-free rate\n",
    "    - 5.3 Time to expiry\n",
    "    - 5.4 Spot price\n",
    "    - 5.5 Strike price\n",
    "    - 5.6 Number of simulations\n",
    "    - 5.7 Number of time steps\n",
    "6. **Asymptotic Behaviours**\n",
    "    - 6.1 Volatility\n",
    "    - 6.2 Risk-free rate \n",
    "    - 6.3 Time to expiry\n",
    "    - 6.4 Spot and Strike price\n",
    "7. **Moneyness Analysis**\n",
    "    - 7.1 Volatility\n",
    "    - 7.2 Risk-free rate \n",
    "    - 7.3 Time to expiry\n",
    "8. **Conclusions**\n",
    "9. **References**\n"
   ]
  },
  {
   "cell_type": "markdown",
   "id": "bf9d0d9d",
   "metadata": {},
   "source": [
    "# 1. Introduction to Monte Carlo Methods\n",
    "Monte Carlo (MC) methods are a class of computational algorithms that rely on repeated random sampling to obtain numerical results. The core idea is to simulate a large number of possible paths for the underlying asset's price and then compute the expected payoff of the option under these scenarios. This expected payoff is then discounted back to the present value using the risk-free rate, providing an estimate of the option's price.\n",
    "\n",
    "Monte Carlo methods for option pricing are highly flexible and effective in handling complex, high-dimensional, and path-dependent contracts with minimal modeling effort. Their accuracy improves with more simulations, but they can be computationally intensive for low-dimensional problems and may converge slowly compared to analytical or PDE-based methods.\n",
    "\n",
    "The general formula for the value of an option using MC simulation under the risk-neutral measure $\\mathbb{Q}$ is:\n",
    "\n",
    "$$\n",
    "V(S, t) = e^{-r(T - t)}\\, \\mathbb{E}^\\mathbb{Q} \\,[\\,\\text{Payoff}\\,]\n",
    "$$\n",
    "\n",
    "where:\n",
    "- $V(S, t)$ is the option price at time $t$ with underlying price $S$,\n",
    "- $r$ is the risk-free interest rate,\n",
    "- $T$ is the time to maturity,\n",
    "- $\\mathbb{E}^\\mathbb{Q}$ denotes the expectation under the risk-neutral measure.\n",
    "\n",
    "\n",
    "Monte Carlo methods are inherently based on finite sampling, meaning the estimated price is subject to statistical noise. However, the accuracy of these methods improves as the number of simulations increases, with the error typically decreasing at a rate proportional to:\n",
    "\n",
    "$$\n",
    "\\text{Error} \\sim \\frac{1}{\\sqrt{N}}\n",
    "$$\n",
    "\n",
    "where $N$ is the number of simulated paths. This makes MC simulation a powerful, though computationally expensive, tool for pricing options — especially when analytical solutions are not available.\n",
    "\n",
    "In summary, MC methods are highly adaptable and particularly effective for pricing complex derivatives involving many risk factors or path dependencies. They require relatively little modeling effort and can easily incorporate changing assumptions. However, they may be less efficient than analytical methods when such solutions are available and suitable."
   ]
  },
  {
   "cell_type": "markdown",
   "id": "826cb029",
   "metadata": {},
   "source": [
    "# 2. Simulation Methods for Underlying Stock Price\n",
    "\n",
    "The underlying stock price $S_t$ is assumed to follow the geometric Brownian motion described by the stochastic differential equation: $$dS_t = r S_t dt + \\sigma S_t dW_t$$\n",
    "Three methods are considered for simulating the evolution of the stock price:\n",
    "\n",
    "1. **Closed-Form Solution**:  \n",
    "   The geometric Brownian motion model admits an exact solution:\n",
    "\n",
    "   $$S_T = S_0 \\exp{ \\left[(r - \\frac{1}{2} \\sigma^2)T + \\sigma W_T \\right]}$$\n",
    "\n",
    "   where $W_T$ is a standard Brownian motion at expiry $T$.  \n",
    "   This can be reformulated iteratively to simulate the entire path:\n",
    "   $$S_{i+1} = S_i \\cdot \\exp{\\left[ \\left(r-\\frac{1}{2}\\sigma^2\\right)\\Delta t + \\sigma \\Delta W_i\\right]}$$\n",
    "   where $\\Delta W_i = W_{i+1} - W_i$ is a Wiener process increment. \n",
    "\n",
    "2. **Euler-Maruyama Scheme**:  \n",
    "   The Euler-Maruyama method is a simple and widely used approach for approximating solutions to stochastic differential equations. The method is computationally efficient and easy to implement, but it may require small time steps for accurate results, particularly when dealing with long time horizons or high volatility. The scheme is given by:\n",
    "\n",
    "   $$S_{i+1} = S_t \\cdot \\left[1 + r \\Delta t + \\sigma \\Delta W_i \\right]$$\n",
    "\n",
    "   Applying the recursive equation sequentially for M time steps, the stock price at expiry can be obtained as:\n",
    "   $$S_T = S_0 \\cdot \\prod_{i=0}^{M-1} \\left(1 + r\\,\\Delta t + \\sigma\\,\\Delta W_i \\right)$$\n",
    "\n",
    "\n",
    "3. **Milstein Scheme**:  \n",
    "   The Milstein method extends the Euler-Maruyama scheme by including a higher-order term, improving its accuracy. This method is particularly useful when modeling derivative prices or path-dependent options, although it is slightly more complex to implement and computationally more expensive. The Milstein scheme for the same SDE is:\n",
    "   \n",
    "   $$S_{i+1} = S_i \\cdot \\left[1 + \\left(r - \\frac{1}{2} \\sigma^2 \\right) \\Delta t + \\sigma \\, \\Delta W_i + \\frac{1}{2}\\sigma^2 {\\left( \\Delta W_i\\right)}^2\\right]$$\n",
    "\n",
    "   The terminal stock price can then be expressed as:\n",
    "   $$S_T = S_0 \\cdot \\prod_{i=0}^{M-1} \\left[1 + r\\,\\Delta t + \\sigma\\,\\Delta W_i + \\tfrac{1}{2} \\sigma^2 \\left( (\\Delta W_i)^2 - \\Delta t \\right) \\right]$$"
   ]
  },
  {
   "cell_type": "markdown",
   "id": "cf1c089b",
   "metadata": {},
   "source": [
    "## 2.1 Initial parameters\n",
    "This is the list of base parameters that will be used for the analysis:\n",
    "\n",
    "| Parameter                |Symbol     |Value    |\n",
    "|:-------------------------|:---------:|:-------:|\n",
    "| Today’s stock price      | $S_0$     | 100     |\n",
    "| Strike price             | $E$       | 100     |\n",
    "| Time to expiry           | $T - t$   | 1 year  |\n",
    "| Volatility               | $\\sigma$  | 20%     |\n",
    "| Risk-free interest rate  | $r$       | 5%      |"
   ]
  },
  {
   "cell_type": "markdown",
   "id": "8efb1ed9",
   "metadata": {},
   "source": [
    "## 2.2 Implementation of Stock Price Simulation Methods\n",
    "\n",
    "The `MonteCarlo` class enables simulation of stock price paths using three different methods: Euler-Maruyama, Milstein, and the closed-form solution.  \n",
    "Each method relies on the properties of Wiener process increments, where each increment $\\Delta W_i$ follows a normal distribution with mean 0 and variance $\\Delta t$, that is, $\\Delta W_i \\sim \\mathcal{N}(0,\\Delta t)$. This can also be written as $\\Delta W_t \\sim \\phi \\sqrt{\\Delta t}$, where $\\phi \\sim \\mathcal{N}(0,1)$ is a standard normal random variable.  \n",
    "\n",
    "To ensure consistency across simulations, the same Brownian increments are used for all numerical schemes. Sharing the random inputs across the three methods provides a fair and controlled basis for comparison by eliminating variability due to independent sampling. Consequently, any observed differences in option pricing can be confidently attributed to the numerical properties of the methods themselves, leading to more reliable and interpretable conclusions. \n",
    "\n",
    "The class implements two kinds of methods, which serve different purposes:\n",
    "\n",
    "- *Terminal value methods* (`*_terminal`): These compute only the final value of the simulated stock price at maturity $T$, and are primarily used for *weak convergence tests*. In these tests, accuracy is evaluated based on expected values, rather than on the fidelity of individual paths. A more detailed discussion on convergence analysis follows in the next section.\n",
    "\n",
    "- *Path methods* (`*_path`): These generate the entire trajectory of the stock price over time and are used for *strong convergence tests*, which assess how closely the simulated paths track the true solution. The path is built step-by-step using the chosen numerical scheme, and the output is a full time series of stock prices for each simulation. The initial value $S_0$ is explicitly included as the first row to represent time zero.\n",
    "\n",
    "The vectorization procedure allows to replace explicit Python loops with array-based operations, speeding up the simulation process. "
   ]
  },
  {
   "cell_type": "code",
   "execution_count": null,
   "id": "14a4a326",
   "metadata": {},
   "outputs": [],
   "source": [
    "import numpy as np\n",
    "import pandas as pd\n",
    "import matplotlib\n",
    "import matplotlib.pyplot as plt\n",
    "from scipy.stats import norm\n",
    "import statsmodels.api as sm\n",
    "from IPython.display import display, HTML\n",
    "import os"
   ]
  },
  {
   "cell_type": "code",
   "execution_count": null,
   "id": "2468f1fd",
   "metadata": {},
   "outputs": [],
   "source": [
    "class MonteCarlo:\n",
    "    def __init__(self, spot, T, volatility, rate, time_steps, n_simulations):\n",
    "        self.S = spot\n",
    "        self.T = T\n",
    "        self.vol = volatility\n",
    "        self.r = rate\n",
    "        self.nsims = n_simulations\n",
    "        self.time_steps = time_steps\n",
    "\n",
    "        self.dt = T / time_steps\n",
    "        self.sqrt_dt = np.sqrt(self.dt)\n",
    "\n",
    "    def generate_increment(self, rng: np.random.Generator) -> np.ndarray:\n",
    "        return rng.standard_normal((self.time_steps, self.nsims)) * self.sqrt_dt\n",
    "\n",
    "    # terminal value methods (used for weak convergence test)\n",
    "    def Euler_Maruyama_terminal(self, dW: np.ndarray) -> np.ndarray:\n",
    "        factors = 1 + self.r * self.dt + self.vol * dW\n",
    "        return self.S * np.prod(factors, axis=0)\n",
    "\n",
    "    def Milstein_terminal(self, dW: np.ndarray) -> np.ndarray:\n",
    "        correction = 0.5 * self.vol**2 * (dW**2 - self.dt)\n",
    "        factors = 1 + self.r * self.dt + self.vol * dW + correction\n",
    "        return self.S * np.prod(factors, axis=0)\n",
    "\n",
    "    def Closed_form_terminal(self, dW: np.ndarray) -> np.ndarray:\n",
    "        sum_dW = np.sum(dW, axis=0)\n",
    "        return self.S * np.exp((self.r - 0.5*self.vol**2) * self.T + self.vol * sum_dW)\n",
    "    \n",
    "    # path methods (used for strong convergence test)\n",
    "    def Euler_Maruyama_path(self, dW: np.ndarray) -> np.ndarray:\n",
    "        factors = 1 + self.r*self.dt + self.vol*dW\n",
    "        cumprod = np.cumprod(factors, axis=0)\n",
    "        return np.vstack((np.ones((1, self.nsims)), cumprod)) * self.S\n",
    "\n",
    "    def Milstein_path(self, dW: np.ndarray) -> np.ndarray:\n",
    "        correction = 0.5*self.vol**2*(dW**2 - self.dt)\n",
    "        factors = 1 + self.r*self.dt + self.vol*dW + correction\n",
    "        cumprod = np.cumprod(factors, axis=0)\n",
    "        return np.vstack((np.ones((1, self.nsims)), cumprod)) * self.S\n",
    "\n",
    "    def Closed_form_path(self, dW: np.ndarray) -> np.ndarray:\n",
    "        increments = np.exp((self.r - 0.5*self.vol**2)*self.dt + self.vol*dW)\n",
    "        cumprod = np.cumprod(increments, axis=0)\n",
    "        return np.vstack((np.ones((1, self.nsims)), cumprod)) * self.S"
   ]
  },
  {
   "cell_type": "markdown",
   "id": "edb47921",
   "metadata": {},
   "source": [
    "Definition of the initial set of parameters:"
   ]
  },
  {
   "cell_type": "code",
   "execution_count": null,
   "id": "7b9d36b9",
   "metadata": {},
   "outputs": [],
   "source": [
    "base_parameters = {\n",
    "    'spot_price': 100,\n",
    "    'strike_price': 100,\n",
    "    'volatility': 0.2,\n",
    "    'risk_free_rate': 0.05,\n",
    "    'time_to_expiry': 1,\n",
    "    'n_simulations': 100000,\n",
    "    'time_steps': 252,\n",
    "}"
   ]
  },
  {
   "cell_type": "markdown",
   "id": "a8782c22",
   "metadata": {},
   "source": [
    "Using the initial set of parameters, 50 simulations are generated for each numerical scheme and plotted to illustrate typical trajectories of the underlying stock. The simulation uses 252 time steps, corresponding to the number of trading days in a year, ensuring that the temporal resolution aligns with daily market activity.\n",
    "While many financial instruments, such as options, may depend only on the terminal value of the underlying asset, accurate simulation is still essential. Numerical schemes like Euler-Maruyama and Milstein discretize the stochastic differential equation that governs the asset's dynamics, introducing approximation errors. For example, the Euler-Maruyama method has a global weak error of order $\\mathcal{O}(\\Delta t)$, meaning that a finer discretization yields more precise results (even in cases where the payoff depends only on the final stock price).  \n",
    "\n",
    "The seed for the random number generator is set once at the beginning to ensure reproducibility of the results. This means that every time the simulation is run with the same parameters, the generated Brownian increments (and thus the paths and terminal values) will be identical. This is especially important in convergence studies, debugging, and validation, as it ensures consistent comparison across numerical schemes under identical stochastic conditions."
   ]
  },
  {
   "cell_type": "code",
   "execution_count": null,
   "id": "fcb41f5c",
   "metadata": {},
   "outputs": [],
   "source": [
    "mc = MonteCarlo(\n",
    "    spot=base_parameters['spot_price'],\n",
    "    T=base_parameters['time_to_expiry'],\n",
    "    volatility=base_parameters['volatility'], \n",
    "    rate=base_parameters['risk_free_rate'], \n",
    "    time_steps=base_parameters['time_steps'], \n",
    "    n_simulations=base_parameters['n_simulations']\n",
    ")\n",
    "\n",
    "rng = np.random.default_rng(200)\n",
    "dW = mc.generate_increment(rng)\n",
    "\n",
    "methods_path = {\n",
    "    \"Euler\": mc.Euler_Maruyama_path(dW),\n",
    "    \"Milstein\": mc.Milstein_path(dW),\n",
    "    \"Closed-form\": mc.Closed_form_path(dW)\n",
    "}\n",
    "\n",
    "time = np.linspace(0, base_parameters['time_to_expiry'], base_parameters['time_steps'] + 1) \n",
    "fig, axes = plt.subplots(3, 1, figsize=(12, 15), sharex=True)\n",
    "\n",
    "n_plot = 50\n",
    "\n",
    "# Plot Euler-Maruyama paths\n",
    "axes[0].plot(time, methods_path['Euler'][:, :n_plot], linewidth=1)\n",
    "axes[0].set_title('Euler-Maruyama Simulation Paths', fontsize=12, pad=10)\n",
    "axes[0].set_ylabel('Stock Price', fontsize=10)\n",
    "axes[0].axhline(y=base_parameters['spot_price'], color='black', linestyle='--', linewidth=0.8)\n",
    "\n",
    "# Plot Milstein paths\n",
    "axes[1].plot(time, methods_path['Milstein'][:, :n_plot], linewidth=1)\n",
    "axes[1].set_title('Milstein Simulation Paths', fontsize=12, pad=10)\n",
    "axes[1].set_ylabel('Stock Price', fontsize=10)\n",
    "axes[1].axhline(y=base_parameters['spot_price'], color='black', linestyle='--', linewidth=0.8)\n",
    "\n",
    "# Plot Closed-form paths\n",
    "axes[2].plot(time, methods_path['Closed-form'][:, :n_plot], linewidth=1)\n",
    "axes[2].set_title('Closed-form Solution Paths', fontsize=12, pad=10)\n",
    "axes[2].set_xlabel('Time (years)', fontsize=10)\n",
    "axes[2].set_ylabel('Stock Price', fontsize=10)\n",
    "axes[2].axhline(y=base_parameters['spot_price'], color='black', linestyle='--', linewidth=0.8)\n",
    "\n",
    "plt.tight_layout()\n",
    "plt.show()"
   ]
  },
  {
   "cell_type": "markdown",
   "id": "869474ae",
   "metadata": {},
   "source": [
    "## 2.3 Convergence\n",
    "\n",
    "Convergence in ODEs measures how the numerical solution approaches the true solution as the time step $\\Delta t \\rightarrow 0$. Since ODEs are deterministic, error comes only from discretization. On the other hand, SDEs introduce randomness, requiring two convergence types. Given the exact solution at a generic time horizon $S_T^{\\text{exact}}$ and the approximate solution $S_T^{\\text{approx}}$, then the convergence can be:\n",
    "\n",
    "- *Strong Convergence*: the numerical trajectory matches the true solution path, i.e. the the two match for each point of the path: $$\\text{Weak error} = \\mathbb{E}\\left[ \\, |S_T^{\\text{exact}} - S_T^{\\text{approx}}| \\, \\right] \\leq C \\cdot (\\Delta t)^{\\gamma} \\tag{1}$$ where $\\gamma$ is the strong order and $C$ is a generic constant.\n",
    "\n",
    "- *Weak Convergence*: Measures how well the statistical properties of the numerical solution match those of the true solution: $$\\text{Strong error} = \\left| \\, \\mathbb{E}[S_T^{\\text{exact}}] - \\mathbb{E}[S_T^{\\text{approx}}] \\, \\right| \\leq C \\cdot (\\Delta t)^{\\beta} \\tag{2}$$ where $\\beta$ is the weak order.\n",
    "\n",
    "While the rigorous mathematical proofs of the convergence rates are beyond the scope of this work, it is possible to empirically verify these theoretical results through numerical experimentation. The `check_convergence` function provides this verification by computing both strong and weak errors across progressively refined time steps, plotting the error versus step size on a log-log scale and estimating the empirical convergence rates from the plot slopes. The code implementation is inspired by the technique used in https://hautahi.com/sde_simulation.  \n",
    "To estimate the convergence rates of the Euler-Maruyama and Milstein schemes, a sequence of decreasing time steps is considered, given by $\\Delta t = 2^{-k}$ for $k = 6, \\ldots, 10$. For each value of $\\Delta t$, $N$ Monte Carlo paths of the stochastic differential equation are simulated using both numerical schemes.  \n",
    "The exact solution, which is analytically known in this case, is computed and used as a reference.\n",
    "\n",
    "The weak and strong errors are defined following the definitions in equations $(1)$ and $(2)$.\n",
    "The convergence rate is estimated by performing a linear regression in logarithmic scale. Specifically, $\\log(\\text{error})$ is regressed against $\\log(\\Delta t)$ using ordinary least squares, resulting in a fitted model of the form $$\\log(\\text{error}) \\approx a + b \\,\\log(\\Delta t)$$\n",
    "The slope $b$ provides an estimate of the numerical method's convergence rate.\n",
    "\n",
    "Note that the simulation results reported below use a simplified set of parameters:\n",
    "- $S_0 = 1$\n",
    "- $\\sigma = 1$\n",
    "- $r = 2$\n",
    "- $T = 1$\n",
    "\n",
    "This configuration enables meaningful convergence results with 100000 simulations. An attempt was made using the original parameters, but with the same number of simulations the results — particularly for the weak convergence rates — were not satisfactory. It is likely that at least one million simulations are required to obtain reliable estimates, but the available hardware was not capable of handling such computational demands. "
   ]
  },
  {
   "cell_type": "code",
   "execution_count": null,
   "id": "c7fe3a4c",
   "metadata": {},
   "outputs": [],
   "source": [
    "def check_convergence(spot=1, volatility=1, rate=2, T=1, n_simulations=100000):\n",
    "    \"\"\"Weak and Strong convergence check\"\"\"\n",
    "    min_power, max_power = 6, 10  \n",
    "    dt_grid = np.array([2**-i for i in range(min_power, max_power+1)])\n",
    "    \n",
    "    weak_err_em, weak_err_mil = [], []\n",
    "    strong_err_em, strong_err_mil = [], []\n",
    "    \n",
    "    for dt in dt_grid:\n",
    "        time_steps = int(1/dt)\n",
    "        mc_obj = MonteCarlo(spot, T, volatility, rate, time_steps, n_simulations)\n",
    "        \n",
    "        rng = np.random.default_rng(2025)  \n",
    "        dW = mc_obj.generate_increment(rng)\n",
    "        \n",
    "        # Weak convergence\n",
    "        exact = mc_obj.Closed_form_terminal(dW)\n",
    "        weak_err_em.append(np.abs(np.mean(exact) - np.mean(mc_obj.Euler_Maruyama_terminal(dW))))\n",
    "        weak_err_mil.append(np.abs(np.mean(exact) - np.mean(mc_obj.Milstein_terminal(dW))))\n",
    "        \n",
    "        # Strong convergence\n",
    "        exact_path = mc_obj.Closed_form_path(dW)[-1]\n",
    "        strong_err_em.append(np.mean(np.abs(exact_path - mc_obj.Euler_Maruyama_path(dW)[-1])))\n",
    "        strong_err_mil.append(np.mean(np.abs(exact_path - mc_obj.Milstein_path(dW)[-1])))\n",
    "    \n",
    "    # Plotting \n",
    "    plt.figure(figsize=(10, 7))\n",
    "    plt.loglog(dt_grid, weak_err_em, 'bo--', label=\"Euler (Weak)\", markersize=8)\n",
    "    plt.loglog(dt_grid, weak_err_mil, 'ro--', label=\"Milstein (Weak)\", markersize=8)\n",
    "    plt.loglog(dt_grid, strong_err_em, 'bs-', label=\"Euler (Strong)\", markersize=8)\n",
    "    plt.loglog(dt_grid, strong_err_mil, 'rs-', label=\"Milstein (Strong)\", markersize=8)\n",
    "    plt.xlabel('Time Step $\\Delta t$', fontsize=12)\n",
    "    plt.ylabel('Error', fontsize=12)\n",
    "    plt.title('Convergence Analysis', fontsize=14)\n",
    "    plt.legend(fontsize=10, loc='upper left', framealpha=1)\n",
    "    plt.grid(True, which=\"both\", ls=\"--\", alpha=0.5)\n",
    "    plt.xticks([10**-4, 10**-3, 10**-2], ['10⁻⁴', '10⁻³', '10⁻²'])\n",
    "    plt.yticks([10**-2, 10**-1], ['10⁻²', '10⁻¹'])\n",
    "    plt.xlim(0.0009, 0.02)\n",
    "    plt.tight_layout()\n",
    "    plt.show()\n",
    "\n",
    "    # Regression analysis for all cases\n",
    "    X = sm.add_constant(np.log(dt_grid))\n",
    "    \n",
    "    def print_convergence_rate(y, name, expected):\n",
    "        results = sm.OLS(np.log(y), X).fit()\n",
    "        print(f'{name}: {results.params[1]:.3f} (Expected: {expected})')\n",
    "    \n",
    "    print(\"=== Convergence Rates ===\")\n",
    "    print_convergence_rate(weak_err_em, \"Weak Euler-Maruyama\", \"1.0\")\n",
    "    print_convergence_rate(weak_err_mil, \"Weak Milstein      \", \"1.0\")\n",
    "    print_convergence_rate(strong_err_em, \"Strong Euler-Maruyama\", \"0.5\")\n",
    "    print_convergence_rate(strong_err_mil, \"Strong Milstein      \", \"1.0\")\n",
    "\n",
    "check_convergence()"
   ]
  },
  {
   "cell_type": "markdown",
   "id": "81816a8a",
   "metadata": {},
   "source": [
    "The results obtained are reported in the following tables:\n",
    "<div style=\"display: flex; margin-left: 500px; gap: 100px;\">\n",
    "  <div style=\"text-align: center;\">\n",
    "    <strong>Theoretical Convergence Rates</strong>\n",
    "    <table style=\"border-collapse: collapse; text-align: center;\">\n",
    "      <thead><tr><th>Method</th><th>Strong (&gamma;)</th><th>Weak (&beta;)</th></tr></thead>\n",
    "      <tbody>\n",
    "        <tr><td>Euler-Maruyama</td><td>0.5</td><td>1.0</td></tr>\n",
    "        <tr><td>Milstein</td><td>1.0</td><td>1.0</td></tr>\n",
    "      </tbody>\n",
    "    </table>\n",
    "  </div>\n",
    "  <div style=\"text-align: center;\">\n",
    "    <strong>Estimated Convergence Rates</strong>\n",
    "    <table style=\"border-collapse: collapse; text-align: center;\">\n",
    "      <thead><tr><th>Method</th><th>Strong (&gamma;)</th><th>Weak (&beta;)</th></tr></thead>\n",
    "      <tbody>\n",
    "        <tr><td>Euler-Maruyama</td><td>0.515</td><td>0.997</td></tr>\n",
    "        <tr><td>Milstein</td><td>0.982</td><td>0.980</td></tr>\n",
    "      </tbody>\n",
    "    </table>\n",
    "  </div>\n",
    "</div>\n",
    "\n",
    "Looking at the tables it is possible to conclude that the estimated convergence rates align closely with the theoretical expectations."
   ]
  },
  {
   "cell_type": "markdown",
   "id": "8d4ce044",
   "metadata": {},
   "source": [
    "---"
   ]
  },
  {
   "cell_type": "markdown",
   "id": "0c833e69",
   "metadata": {},
   "source": [
    "# 3. European and binary call options\n",
    "The payoff function depends on the type of contract:\n",
    "\n",
    "• A **European call** option gives the holder the right, but not the obligation, to buy the underlying asset at a predetermined strike price $E$ on the expiration date $T$.  \n",
    "The payoff of a European call option is:\n",
    "\n",
    "$$\\text{Payoff} = \\max(S_T - E, 0)$$\n",
    "\n",
    "where $S_T$ is the price of the underlying asset at maturity.\n",
    "The Black-Scholes pricing formula for European call options is:\n",
    "$$ C(S,t) = S_0 N(d_1) - E e^{-rT}N(d_2) $$\n",
    "where \n",
    "\n",
    "$$d_1 = \\frac{\\ln{\\left(\\frac{S_0}{E}\\right)} + \\left(r + \\frac{1}{2}\\sigma^2 \\right)T}{\\sigma \\sqrt{T}}$$\n",
    "\n",
    "$$d_2 = d_1 - \\sigma \\sqrt{T}$$\n",
    "\n",
    "$$N(x) = \\frac{1}{\\sqrt{2\\pi}} \\int_{-\\infty}^{x} e^{-\\frac{t^2}{2}} \\, dt$$\n",
    "\n",
    "\n",
    "• A **binary call** option pays a fixed amount if the underlying asset's price is above the strike price at expiration, and nothing otherwise.  \n",
    "The payoff of a binary call option is:\n",
    "\n",
    "$$\\text{Payoff} = \n",
    "\\begin{cases} \n",
    "1 & \\text{if } S_T \\geq E \\\\\n",
    "0 & \\text{otherwise}\n",
    "\\end{cases}\n",
    "$$\n",
    "The Black-Scholes pricing formula for binary call options is:\n",
    "$$ B(S,t) = e^{-rT}N(d_2)$$"
   ]
  },
  {
   "cell_type": "markdown",
   "id": "f7648e06",
   "metadata": {},
   "source": [
    "## 3.1 Pricing options\n",
    "The `OptionPricing` class implements pricing for European and binary options using two complementary approaches. The Monte Carlo simulation method computes option prices numerically using the previously generated asset prices, providing both value estimates and associated standard errors calculated as standard deviation of the payoff divided by the square root of the number of simulations, then discounted to present value. The standard error decreases systematically with increasing simulation count, ensuring convergence to the true value under the model’s assumptions.\n",
    "\n",
    "For validation, the class incorporates the analytical Black-Scholes formulas, which serve as theoretical benchmarks, since the MC methods are expected to approach the BS option value as the number of simulations grows. "
   ]
  },
  {
   "cell_type": "code",
   "execution_count": null,
   "id": "b5bf74f0",
   "metadata": {},
   "outputs": [],
   "source": [
    "class OptionPricing:\n",
    "    def __init__(self, terminal_prices, strike, spot, T, vol, rate):\n",
    "        self.S_T = np.asarray(terminal_prices)\n",
    "        self.E = strike\n",
    "        self.S0 = spot\n",
    "        self.T = T\n",
    "        self.sigma = vol\n",
    "        self.r = rate\n",
    "        self.discount_factor = np.exp(-self.r * self.T)\n",
    "\n",
    "        self.d1 = (np.log(self.S0 / self.E) + (self.r + 0.5 * self.sigma**2) * self.T) / (self.sigma * np.sqrt(self.T))\n",
    "        self.d2 = self.d1 - self.sigma * np.sqrt(self.T)\n",
    "\n",
    "    def european_mc(self):\n",
    "        \"\"\" Monte Carlo estimate of European call price \"\"\"\n",
    "        payoff = np.maximum(self.S_T - self.E, 0)\n",
    "        mean_payoff = payoff.mean()\n",
    "        stderr = payoff.std(ddof=1) / np.sqrt(payoff.size)\n",
    "        return {\n",
    "            'price': self.discount_factor * mean_payoff,\n",
    "            'stderr': self.discount_factor * stderr\n",
    "        }\n",
    "\n",
    "    def binary_mc(self):\n",
    "        \"\"\" Monte Carlo estimate of binary call price \"\"\"\n",
    "        payoff = (self.S_T >= self.E).astype(float)\n",
    "        mean_payoff = payoff.mean()\n",
    "        stderr = payoff.std(ddof=1) / np.sqrt(payoff.size)\n",
    "        return {\n",
    "            'price': self.discount_factor * mean_payoff,\n",
    "            'stderr': self.discount_factor * stderr\n",
    "        }\n",
    "\n",
    "    def bs_european(self):\n",
    "        \"\"\" Black–Scholes formula for a European call \"\"\"\n",
    "        return self.S0 * norm.cdf(self.d1) - self.E * self.discount_factor * norm.cdf(self.d2)\n",
    "\n",
    "    def bs_binary(self):\n",
    "        \"\"\" Black–Scholes formula for binary call \"\"\"\n",
    "        return self.discount_factor * norm.cdf(self.d2)"
   ]
  },
  {
   "cell_type": "code",
   "execution_count": null,
   "id": "8d02a5af",
   "metadata": {},
   "outputs": [],
   "source": [
    "results = []\n",
    "\n",
    "methods = {\n",
    "    \"Euler\": mc.Euler_Maruyama_terminal(dW),\n",
    "    \"Milstein\": mc.Milstein_terminal(dW),\n",
    "    \"Closed-form\": mc.Closed_form_terminal(dW)\n",
    "}\n",
    "\n",
    "# Compute prices for each method\n",
    "for method_name, term_vals in methods.items():\n",
    "    opt = OptionPricing(\n",
    "        terminal_prices=term_vals,\n",
    "        strike=base_parameters['strike_price'],\n",
    "        spot=base_parameters['spot_price'],\n",
    "        T=base_parameters['time_to_expiry'],\n",
    "        vol=base_parameters['volatility'],\n",
    "        rate=base_parameters['risk_free_rate']\n",
    "    )\n",
    "    \n",
    "    european = opt.european_mc()\n",
    "    binary = opt.binary_mc()\n",
    "    bs_european = opt.bs_european()\n",
    "    bs_binary = opt.bs_binary()\n",
    "    \n",
    "    results.append({\n",
    "        'Method': method_name,\n",
    "        'European_price': european['price'],\n",
    "        'European_err': european['stderr'],\n",
    "        'Binary_price': binary['price'],\n",
    "        'Binary_err': binary['stderr'],\n",
    "        'BS European': bs_european,\n",
    "        'BS binary': bs_binary,\n",
    "    })\n",
    "\n",
    "results_df = pd.DataFrame(results)\n",
    "print(results_df)"
   ]
  },
  {
   "cell_type": "markdown",
   "id": "284c12bb",
   "metadata": {},
   "source": [
    "The price obtained are summed up in the following table:\n",
    "\n",
    "|Method|European|Binary|\n",
    "|:---:|:---:|:---:|\n",
    "|Euler-Maruyama |10.4411 $\\pm$ 0.0464 | 0.5337 $\\pm$ 0.0015|\n",
    "|Milstein       |10.4401 $\\pm$ 0.0464 | 0.5335 $\\pm$ 0.0015|\n",
    "|Closed form    |10.4419 $\\pm$ 0.0464 | 0.5335 $\\pm$ 0.0015|\n",
    "|Black-Scholes  |10.4506              | 0.5323             |\n",
    "\n",
    "All option values obtained using the three Monte Carlo methods are very close to one another, and the Black–Scholes benchmark lies within the range of variability introduced by random sampling. A more rigorous assessment of the consistency between methods is presented in the next section."
   ]
  },
  {
   "cell_type": "markdown",
   "id": "1d6d1712",
   "metadata": {},
   "source": [
    "## 3.2 Methods validation\n",
    "\n",
    "To validate the accuracy of the Monte Carlo simulations, the estimated option prices are compared with the theoretical Black-Scholes (BS) values using two metrics: the *relative difference* and the *$t$-statistic*. These measures offer complementary insights: the relative difference quantifies the numerical deviation from the benchmark, while the $t$-statistic assesses statistical compatibility.\n",
    "\n",
    "The relative difference is defined as:\n",
    "\n",
    "$$\\text{Relative difference} = \\frac{\\text{Price}_{MC} - \\text{Price}_{BS}}{\\text{Price}_{BS}}$$\n",
    "\n",
    "which provides a normalized measure of bias in the Monte Carlo estimate.\n",
    "\n",
    "The $t$-statistic is given by:\n",
    "\n",
    "$$t = \\frac{|\\text{Price}_{MC} - \\text{Price}_{BS}|}{\\text{Standard Error}_{MC}}$$\n",
    "\n",
    "and is used to test the null hypothesis that the Monte Carlo estimate is statistically consistent with the Black-Scholes value.\n",
    "- If $t > 1.96$, the difference is statistically significant at the 95\\% confidence level, suggesting potential issues, like implementation errors or violated assumptions.  \n",
    "- If $t \\leq 1.96$, the Monte Carlo and Black-Scholes prices are statistically compatible within expected sampling variation.\n",
    "\n"
   ]
  },
  {
   "cell_type": "code",
   "execution_count": null,
   "id": "6da5b2ed",
   "metadata": {},
   "outputs": [],
   "source": [
    "def perform_validation(row):\n",
    "    # t-stat\n",
    "    european_t = abs(row['European_price'] - row['BS European']) / row['European_err']\n",
    "    binary_t = abs(row['Binary_price'] - row['BS binary']) / row['Binary_err']\n",
    "    \n",
    "    european_sig = european_t > 1.96\n",
    "    binary_sig = binary_t > 1.96\n",
    "    \n",
    "    # relative difference\n",
    "    european_rel_diff = abs(row['European_price'] - row['BS European']) / row['BS European']\n",
    "    binary_rel_diff = row['Binary_price'] - row['BS binary'] / row['BS binary']\n",
    "    \n",
    "    return pd.Series({\n",
    "        'European_t': european_t,\n",
    "        'European_Significant': european_sig,\n",
    "        'Binary_t': binary_t,\n",
    "        'Binary_Significant': binary_sig,\n",
    "        'European_Relative_Difference': european_rel_diff,\n",
    "        'Binary_Relative_Difference': binary_rel_diff,\n",
    "    })\n",
    "\n",
    "t_test_df = results_df.apply(perform_validation, axis=1)\n",
    "\n",
    "final_df = pd.concat([results_df, t_test_df], axis=1)\n",
    "\n",
    "print(final_df[['Method', 'European_t', 'European_Significant', 'Binary_t', 'Binary_Significant', \n",
    "                'European_Relative_Difference', 'Binary_Relative_Difference']])"
   ]
  },
  {
   "cell_type": "markdown",
   "id": "59666c89",
   "metadata": {},
   "source": [
    "The results are summed up in the following table:\n",
    "\n",
    "<div style=\"display: flex; margin-left: 500px; gap: 100px;\">\n",
    "  <div style=\"text-align: center;\">\n",
    "    <strong>European option</strong>\n",
    "    <table style=\"border-collapse: collapse; text-align: center;\">\n",
    "      <thead><tr><th>Method</th><th>(MC - BS)/BS</th><th>t-stat</th></tr></thead>\n",
    "      <tbody>\n",
    "        <tr><td>Euler-Maruyama</td><td>0.0009</td><td>0.2049</td></tr>\n",
    "        <tr><td>Milstein</td><td>0.0010</td><td>0.2259</td></tr>\n",
    "        <tr><td>Closed-form</td><td>0.0008</td><td>0.1870</td></tr>\n",
    "      </tbody>\n",
    "    </table>\n",
    "  </div>\n",
    "  <div style=\"text-align: center;\">\n",
    "    <strong>Binary option</strong>\n",
    "    <table style=\"border-collapse: collapse; text-align: center;\">\n",
    "      <thead><tr><th>Method</th><th>(MC - BS)/BS</th><th>t-stat</th></tr></thead>\n",
    "      <tbody>\n",
    "        <tr><td>Euler-Maruyama</td><td>0.0026</td><td>0.9254</td></tr>\n",
    "        <tr><td>Milstein</td><td>0.0022</td><td>0.7852</td></tr>\n",
    "        <tr><td>Closed-form</td><td>0.0022</td><td>0.7725</td></tr>\n",
    "      </tbody>\n",
    "    </table>\n",
    "  </div>\n",
    "</div>\n",
    "\n",
    "Binary options exhibit slightly larger deviations from the benchmark Black–Scholes values, with relative differences still remaining below $0.3%$.  \n",
    "Nonetheless, all $t$-statistics fall well within the 95% confidence interval, reinforcing the evidence of accurate and reliable model performance."
   ]
  },
  {
   "cell_type": "markdown",
   "id": "ffc61a36",
   "metadata": {},
   "source": [
    "---"
   ]
  },
  {
   "cell_type": "markdown",
   "id": "c95005cb",
   "metadata": {},
   "source": [
    "# 4. Sensitivity analysis\n",
    "To assess the impact of each model parameter on option pricing, a sensitivity analysis is conducted by varying one parameter at a time while keeping the others fixed. This approach isolates the individual contribution of each input to the final price. The three numerical methods are evaluated against the Black–Scholes benchmark, considering both analytical values and the results of a statistical $t$-test, as well as the relative difference between the MC and BS prices.\n",
    "\n",
    "Although the number of simulations and time steps are not intrinsic model parameters, their influence on the results is also discussed at the end of this section."
   ]
  },
  {
   "cell_type": "markdown",
   "id": "f8d04d3d",
   "metadata": {},
   "source": [
    "## 4.1 Analysis framework"
   ]
  },
  {
   "cell_type": "markdown",
   "id": "0c270570",
   "metadata": {},
   "source": [
    "The following functions implement the complete sensitivity analysis workflow. Each function is designed to perform a specific task in the pipeline — from running simulations and generating plots to creating comparison tables and displaying results. The modular structure improves readability, facilitates debugging, and allows individual components to be tested or reused independently.  \n",
    "\n",
    "The baseline parameter set is the same as that reported at the beginning of the report, with a fixed number of 100000 simulations and a time step of $\\Delta t=1/252$."
   ]
  },
  {
   "cell_type": "markdown",
   "id": "e7717933",
   "metadata": {},
   "source": [
    "Two configuration dictionaries, `PARAM_KEY_MAP` and `PARAM_DISPLAY`, establish parameter naming conventions and display formatting."
   ]
  },
  {
   "cell_type": "code",
   "execution_count": null,
   "id": "c2d3302f",
   "metadata": {},
   "outputs": [],
   "source": [
    "# Map parameter \n",
    "PARAM_KEY_MAP = {\n",
    "    'volatility': 'volatility',\n",
    "    'rate': 'risk_free_rate',\n",
    "    'expiry': 'time_to_expiry',\n",
    "    'spot': 'spot_price',\n",
    "    'strike': 'strike_price',\n",
    "    'nsim': 'n_simulations',\n",
    "    'nsteps': 'time_steps'\n",
    "}\n",
    "\n",
    "# Map parameters for plotting\n",
    "PARAM_DISPLAY = {\n",
    "    'volatility': (r'Volatility ($\\sigma$)', 'Volatility'),\n",
    "    'rate': ('Risk-Free Rate (r)', 'Risk-Free Rate'),\n",
    "    'expiry': ('Time to Expiry (T) [years]', 'Time to Expiry'),\n",
    "    'spot': (r'Spot Price ($S_0$)', 'Spot Price'),\n",
    "    'strike': ('Strike Price (E)', 'Strike Price'),\n",
    "    'nsim': ('Number of Simulations', 'Simulation Count'),\n",
    "    'nsteps': ('Number of Time Steps', 'Time Steps')\n",
    "}"
   ]
  },
  {
   "cell_type": "markdown",
   "id": "af9bf633",
   "metadata": {},
   "source": [
    "The `run_simulations` function performs the sensitivity analysis by taking as input a set of base parameters, the name of the parameter to be varied, and a list of values that this parameter will assume during the analysis. It systematically executes the full workflow for sensitivity testing.\n",
    "\n",
    "The function first initializes containers to store results for the Euler-Maruyama, Milstein, and closed-form methods. For each value in the parameter sweep, the base configuration is updated accordingly. Asset price terminal values are then simulated using all three methods. For each method and parameter value, the function computes both European and binary option prices, along with their corresponding standard errors. These MC results are stored together with the analytical BS benchmark values for subsequent comparison.\n",
    "\n",
    "The function returns a dictionary containing the obtained results."
   ]
  },
  {
   "cell_type": "code",
   "execution_count": null,
   "id": "79b8d2d6",
   "metadata": {},
   "outputs": [],
   "source": [
    "def run_simulations(params_base, param_name, param_values):\n",
    "    methods = ['Euler', 'Milstein', 'Closed_form']\n",
    "    results = {m: {'values': [], 'european_price': [], 'european_stderr': [], 'european_BS': [],\n",
    "                   'binary_price': [], 'binary_stderr': [], 'binary_BS': []}\n",
    "               for m in methods}\n",
    "    rng = np.random.default_rng(params_base.get('seed', None))\n",
    "    for val in param_values:\n",
    "        params = params_base.copy()\n",
    "        key = PARAM_KEY_MAP[param_name]\n",
    "        params[key] = float(val)\n",
    "        mc = MonteCarlo(\n",
    "            spot=params['spot_price'], \n",
    "            T=params['time_to_expiry'],\n",
    "            volatility=params['volatility'], \n",
    "            rate=params['risk_free_rate'],\n",
    "            time_steps=int(params['time_steps']), \n",
    "            n_simulations=int(params['n_simulations'])\n",
    "        )\n",
    "        \n",
    "        dW = mc.generate_increment(rng)\n",
    "        terminals = [\n",
    "            mc.Euler_Maruyama_terminal(dW),\n",
    "            mc.Milstein_terminal(dW),\n",
    "            mc.Closed_form_terminal(dW)\n",
    "        ]\n",
    "\n",
    "        for method, term in zip(methods, terminals):\n",
    "            opt = OptionPricing(\n",
    "                terminal_prices=term,\n",
    "                strike=params['strike_price'], \n",
    "                spot=params['spot_price'],\n",
    "                T=params['time_to_expiry'], \n",
    "                vol=params['volatility'], \n",
    "                rate=params['risk_free_rate']\n",
    "            )\n",
    "            results[method]['values'].append(val)\n",
    "\n",
    "            mc_eu = opt.european_mc(); bs_eu = opt.bs_european()\n",
    "            mc_bin = opt.binary_mc(); bs_bin = opt.bs_binary()\n",
    "\n",
    "            results[method]['european_price'].append(mc_eu['price'])\n",
    "            results[method]['european_stderr'].append(mc_eu['stderr'])\n",
    "            results[method]['european_BS'].append(bs_eu)\n",
    "            results[method]['binary_price'].append(mc_bin['price'])\n",
    "            results[method]['binary_stderr'].append(mc_bin['stderr'])\n",
    "            results[method]['binary_BS'].append(bs_bin)\n",
    "\n",
    "    return results"
   ]
  },
  {
   "cell_type": "markdown",
   "id": "e7cc1aa0",
   "metadata": {},
   "source": [
    "The `plot_option_results` function generates plots that visualize the sensitivity of option prices to variations in a specific model parameter. It takes as input the results dictionary from the `run_simulations` function, the name of the parameter being analyzed, and the type of option under consideration.\n",
    "\n",
    "The function constructs a plot where the x-axis represents the values of the selected parameter and the y-axis corresponds to the computed option prices. For each method, the MC prices are displayed with error bars to reflect confidence intervals ($\\text{Std\\_err} \\cdot 1.96$). Additionally, the analytical BS reference price is shown using red cross markers for comparison."
   ]
  },
  {
   "cell_type": "code",
   "execution_count": null,
   "id": "4fec6661",
   "metadata": {},
   "outputs": [],
   "source": [
    "def plot_option_results(results, param_name, opt_type, base_dir):\n",
    "    methods = list(results.keys())\n",
    "    plt.figure(figsize=(8, 6), dpi=300)\n",
    "\n",
    "    for method in methods:\n",
    "        vals = results[method]['values']\n",
    "        plt.errorbar(\n",
    "            vals,\n",
    "            results[method][f'{opt_type}_price'],\n",
    "            yerr=1.96 * np.array(results[method][f'{opt_type}_stderr']),\n",
    "            linestyle='-', marker='None', capsize=4,\n",
    "            label=f'{method} MC'\n",
    "        )\n",
    "\n",
    "    bs_vals = results[methods[0]]['values']\n",
    "    plt.plot(\n",
    "        bs_vals,\n",
    "        results[methods[0]][f'{opt_type}_BS'],\n",
    "        linestyle='', \n",
    "        marker='x', \n",
    "        markersize=6,\n",
    "        zorder=3, \n",
    "        label='BS Reference'\n",
    "    )\n",
    "\n",
    "    # plotting\n",
    "    plt.title(f'{opt_type.capitalize()} Call Option')\n",
    "    plt.xlabel(PARAM_DISPLAY[param_name][0])\n",
    "    plt.ylabel('Option Price')\n",
    "    plt.grid(True, alpha=0.3)\n",
    "    plt.legend()\n",
    "    plt.tight_layout()\n",
    "    \n",
    "    # save plots\n",
    "    out_dir = os.path.join(base_dir, f\"{param_name}\")\n",
    "    os.makedirs(out_dir, exist_ok=True)\n",
    "\n",
    "    filename = f\"{param_name}_{opt_type}.png\"\n",
    "    filepath = os.path.join(out_dir, filename)\n",
    "    plt.savefig(filepath, bbox_inches='tight')\n",
    "    plt.close()\n",
    "\n",
    "    return filepath"
   ]
  },
  {
   "cell_type": "markdown",
   "id": "c446db95",
   "metadata": {},
   "source": [
    "The `generate_option_table` function creates a comprehensive summary table to evaluate the accuracy of Monte Carlo methods against the Black-Scholes benchmark. It computes their relative price difference, as well as the corresponding $t$-statistic.\n",
    "\n",
    "For each combination of method and parameter value, the table records the parameter setting, the method used, the MC price and its standard error, the BS price, their relative difference, and the associated $t$-statistic. \n",
    "\n",
    "The table employs a color-coding scheme to enhance interpretability: the column showing the relative difference is shaded with a symmetric red gradient, where deeper hues indicate larger deviations from the Black-Scholes price. In contrast, the $t$-statistic column is visualized using a blue gradient to reflect the statistical significance of the price difference."
   ]
  },
  {
   "cell_type": "code",
   "execution_count": null,
   "id": "8f45797b",
   "metadata": {},
   "outputs": [],
   "source": [
    "def generate_option_table(results, param_name, opt_type):\n",
    "    methods = list(results.keys())\n",
    "    rows = []\n",
    "    for m in methods:\n",
    "        for i, val in enumerate(results[m]['values']):\n",
    "            mc_p = results[m][f'{opt_type}_price'][i]\n",
    "            mc_e = results[m][f'{opt_type}_stderr'][i]\n",
    "            bs_p = results[m][f'{opt_type}_BS'][i]\n",
    "            rel = (mc_p - bs_p) / bs_p if bs_p else float('nan')\n",
    "            t   = abs(mc_p - bs_p) / mc_e if mc_e else float('nan')\n",
    "            rows.append({\n",
    "                'Param': val,\n",
    "                'Method': m,\n",
    "                'MC Price': mc_p,\n",
    "                '± StdErr': mc_e,\n",
    "                'BS Price': bs_p,\n",
    "                '(MC - BS)/BS': rel,\n",
    "                't-stat': t\n",
    "            })\n",
    "\n",
    "    df = pd.DataFrame(rows).rename(columns={'Param': PARAM_DISPLAY[param_name][1]})\n",
    "    for col in ['MC Price', '± StdErr', 'BS Price', '(MC - BS)/BS', 't-stat']:\n",
    "        df[col] = pd.to_numeric(df[col], errors='coerce')\n",
    "    absmax = df['(MC - BS)/BS'].abs().max()\n",
    "    def color_rel(v):\n",
    "        norm = abs(v) / absmax if absmax else 0\n",
    "        rgba = matplotlib.colormaps['YlOrRd'](0.5 + norm/2)\n",
    "        return f'background-color: {matplotlib.colors.rgb2hex(rgba)}'\n",
    "    \n",
    "    def add_method_separator(row):\n",
    "        # Put a thick border on top of the first row of each method\n",
    "        if row.name == 0 or df.iloc[row.name]['Method'] != df.iloc[row.name - 1]['Method']:\n",
    "            return ['border-top: 3px solid black' for _ in row]\n",
    "        else:\n",
    "            return ['' for _ in row]\n",
    "    \n",
    "    styled = df.style.set_caption(\n",
    "            f\"<h3 style='text-align:center'>{opt_type.capitalize()} Option – {PARAM_DISPLAY[param_name][1]} Sensitivity</h3>\") \\\n",
    "        .map(color_rel, subset=['(MC - BS)/BS']) \\\n",
    "        .background_gradient(subset=['t-stat'], cmap='Blues') \\\n",
    "        .format({\n",
    "            PARAM_DISPLAY[param_name][1]: '{:.3f}',\n",
    "            'MC Price': '{:.4f}',\n",
    "            '± StdErr': '{:.4f}',\n",
    "            'BS Price': '{:.4f}',\n",
    "            '(MC - BS)/BS': '{:.4f}',\n",
    "            't-stat': '{:.2f}'\n",
    "        }, na_rep='N/A') \\\n",
    "        .hide(axis='index') \\\n",
    "        .apply(add_method_separator, axis=1) \\\n",
    "        .set_properties(**{'text-align': 'center'})\n",
    "    html = styled.to_html()\n",
    "\n",
    "    return styled, html"
   ]
  },
  {
   "cell_type": "markdown",
   "id": "4e4f93df",
   "metadata": {},
   "source": [
    "`display_plots` and `display_tables` just handle the layout of plots and tables respectively."
   ]
  },
  {
   "cell_type": "code",
   "execution_count": null,
   "id": "cec6558a",
   "metadata": {},
   "outputs": [],
   "source": [
    "import time\n",
    "\n",
    "def display_plots(param_name, base_dir):\n",
    "    folder = os.path.join(base_dir, f\"{param_name}\")\n",
    "    euro_img = os.path.join(folder, f\"{param_name}_european.png\")\n",
    "    bin_img  = os.path.join(folder, f\"{param_name}_binary.png\")\n",
    "\n",
    "    cache_buster = f\"?v={int(time.time())}\"\n",
    "\n",
    "    html = f\"\"\"\n",
    "    <div style='display:flex;justify-content:center;gap:40px;margin-top:20px;'>\n",
    "      <div style='flex:1;text-align:center;'>\n",
    "        <img src='{euro_img}{cache_buster}' style='width:100%;height:auto;' />\n",
    "      </div>\n",
    "      <div style='flex:1;text-align:center;'>\n",
    "        <img src='{bin_img}{cache_buster}' style='width:100%;height:auto;' />\n",
    "      </div>\n",
    "    </div>\n",
    "    \"\"\"\n",
    "    display(HTML(html))"
   ]
  },
  {
   "cell_type": "code",
   "execution_count": null,
   "id": "8a7d309b",
   "metadata": {},
   "outputs": [],
   "source": [
    "def display_tables(tables):\n",
    "    html = f\"\"\"\n",
    "    <div style=\"position: relative; left: 210px; width: calc(100% - 250px);\">\n",
    "    \n",
    "      <div style=\"\n",
    "          display: flex;\n",
    "          justify-content: flex-start;  \n",
    "          align-items: flex-start;\n",
    "          gap: 260px;\n",
    "          margin-top: 20px;\n",
    "          width: 100%;\n",
    "        \">\n",
    "        \n",
    "        <style>\n",
    "          .dataframe {{\n",
    "            margin: 0 !important;\n",
    "            border-collapse: collapse;\n",
    "          }}\n",
    "        </style>\n",
    "        \n",
    "        <div style=\"width: calc(50% - 20px); min-width: 300px;\">\n",
    "          {tables['european']}\n",
    "        </div>\n",
    "        <div style=\"width: calc(50% - 20px); min-width: 300px;\">\n",
    "          {tables['binary']}\n",
    "        </div>\n",
    "      </div>\n",
    "    </div>\n",
    "    \"\"\"\n",
    "    display(HTML(html))\n"
   ]
  },
  {
   "cell_type": "markdown",
   "id": "bd3c78f8",
   "metadata": {},
   "source": [
    "The `parameter_analysis` function coordinates the entire sensitivity analysis workflow for a selected model parameter, using all the functions just mentioned."
   ]
  },
  {
   "cell_type": "code",
   "execution_count": null,
   "id": "77b6798e",
   "metadata": {},
   "outputs": [],
   "source": [
    "def parameter_analysis(params_base, param_name, param_values, base_dir):\n",
    "    \n",
    "    results = run_simulations(params_base, param_name, param_values)\n",
    "\n",
    "    tables = {}\n",
    "    for t in ['european', 'binary']:\n",
    "        plot_option_results(results, param_name, t, base_dir)\n",
    "        _, html = generate_option_table(results, param_name, t)\n",
    "        tables[t] = html\n",
    "\n",
    "    display_plots(param_name, base_dir)\n",
    "    display_tables(tables)\n",
    "\n",
    "    return results, tables"
   ]
  },
  {
   "cell_type": "markdown",
   "id": "5c314c26",
   "metadata": {},
   "source": [
    "---"
   ]
  },
  {
   "cell_type": "markdown",
   "id": "d9675218",
   "metadata": {},
   "source": [
    "# 5. Results\n",
    "\n",
    "The results of the sensitivity analysis are presented and discussed below. Note that the error bars in the plots may appear either too small or too large due to the scale of the y-axis. To address this, accompanying tables are also provided, which report both the relative distance between the Monte Carlo estimates and the Black–Scholes values, as well as the outcome of the corresponding $t$-tests."
   ]
  },
  {
   "cell_type": "markdown",
   "id": "e59f77b3",
   "metadata": {},
   "source": [
    "## 5.1 Volatility "
   ]
  },
  {
   "cell_type": "code",
   "execution_count": null,
   "id": "a60aac0b",
   "metadata": {},
   "outputs": [],
   "source": [
    "MAIN_PLOTS = 'sensitivity_analysis'\n",
    "\n",
    "vol_results, vol_tables = parameter_analysis(\n",
    "    params_base=base_parameters,\n",
    "    param_name='volatility',\n",
    "    param_values=np.linspace(0.1, 1.0, 10),\n",
    "    base_dir=MAIN_PLOTS\n",
    ")"
   ]
  },
  {
   "cell_type": "markdown",
   "id": "ac1e8e6d",
   "metadata": {},
   "source": [
    "The volatility range used in this analysis is between $10\\%$ and $100\\%$.\n",
    "\n",
    "**European option**: The value increases with volatility almost linearly within the chosen parameter space. \n",
    "Simulated values obtained via MC methods are statistically compatible with the BS price at the $95\\%$ confidence level, and the relative difference between MC and BS values is typically below $1\\%$.\n",
    "All three methods provide almost identical results, without anyone outperforming the others.\n",
    "\n",
    "**Binary option**: Exhibits a decreasing price as volatility increases. As a matter of fact, the distribution spreads out, and although some paths end higher than $E$, more also fall below $E$, so the net probability of finishing in-the-money drops. The three numerical methods yield comparable results, with larger discrepancies appearing at high volatility levels—though these differences remain within the range of statistical fluctuations.  \n",
    "\n",
    "The standard error provides additional insight into the behavior of the Monte Carlo estimates. The key difference in how binary and European call options respond to changes in volatility stems from the structure of their payoffs. A binary call option has a bounded payoff, taking values only in ${0, 1}$, which inherently limits its variance regardless of the volatility level. Consequently, the standard error in Monte Carlo simulations remains well-controlled even as $\\sigma$ increases, with a theoretical upper bound of $\\frac{e^{-rT}}{2\\sqrt{N}} \\approx 0.0015$."
   ]
  },
  {
   "cell_type": "markdown",
   "id": "00c9f581",
   "metadata": {},
   "source": [
    "## 5.2 Risk-free rate "
   ]
  },
  {
   "cell_type": "code",
   "execution_count": null,
   "id": "88a7c16f",
   "metadata": {},
   "outputs": [],
   "source": [
    "rate_results, rate_tables = parameter_analysis(\n",
    "    params_base=base_parameters,\n",
    "    param_name='rate',\n",
    "    param_values=np.linspace(0.04, 0.06, 10),\n",
    "    base_dir=MAIN_PLOTS\n",
    ")"
   ]
  },
  {
   "cell_type": "markdown",
   "id": "53466a77",
   "metadata": {},
   "source": [
    "The risk-free rate values range for the analysis is $4-6\\%$ \n",
    "\n",
    "**European option**: The option value grows with increasing risk-free rate $r$. It is observed a rather stable value of the standard error across the different $r$ values, and the discrepancy between MC and BS are below $0.4\\%$. The $t$-test confirms that all three methods work well.\n",
    "\n",
    "**Binary option**: The option value grows as well, following a growing monotone slightly concave curve. The relative difference between prices is low and the $t$-stat values confirm a good agreement across all methods, with local peaks probably stemming from statistical noise. "
   ]
  },
  {
   "cell_type": "markdown",
   "id": "c7297d75",
   "metadata": {},
   "source": [
    "## 5.3 Time to expiry"
   ]
  },
  {
   "cell_type": "code",
   "execution_count": null,
   "id": "2ebaa313",
   "metadata": {},
   "outputs": [],
   "source": [
    "expiry_results, expity_tables = parameter_analysis(\n",
    "    params_base=base_parameters,\n",
    "    param_name='expiry',\n",
    "    param_values=np.linspace(0.02, 2, 10),\n",
    "    base_dir=MAIN_PLOTS\n",
    ")"
   ]
  },
  {
   "cell_type": "markdown",
   "id": "903f954f",
   "metadata": {},
   "source": [
    "The chosen interval covers expirations from $1$ week to $2$ years.\n",
    "\n",
    "**European option**: The option value grows for longer periods to expiry monotonically. This because the more the expiry is distant in the future, the more time option has to get in-the-money. Even though the $t$-stat values are in average a bit higher than the ones seen so far, they are still acceptable at 95% confidence level. Also relative differences don't ever go above $0.6\\%$.\n",
    "\n",
    "**Binary option**: There is a rapid increase in value up to $T \\approx 1$ and then it falls back. The time to maturity at which a binary call option reaches its maximum price depends on a combination of the option’s moneyness, the risk-free interest rate, and the volatility of the underlying asset. For at-the-money options, the price initially increases with time as the probability of expiring in the money, captured by the cumulative distribution $N(d_2)$, grows. However, as maturity extends further, the exponential discount factor $e^{−rT}$ begins to dominate and pulls the price downward. The precise location of the peak reflects this tradeoff: a higher risk-free rate accelerates discounting and shifts the maximum earlier, while higher volatility flattens the distribution and can push the maximum later or make it less distinct. \n",
    "Deep in-the-money or out-of-the-money options tend not to exhibit a pronounced peak, since either the probability or the discounting clearly dominates across maturities.  \n",
    "All three methods give good and comparable results, with restrained price difference between MC and BS and $t$-stat values well within the acceptance threshold, despite an isolated spike at $T=2$."
   ]
  },
  {
   "cell_type": "markdown",
   "id": "5f138ce3",
   "metadata": {},
   "source": [
    "## 5.4 Spot price"
   ]
  },
  {
   "cell_type": "code",
   "execution_count": null,
   "id": "71e085be",
   "metadata": {},
   "outputs": [],
   "source": [
    "spot_results, spot_tables = parameter_analysis(\n",
    "    params_base=base_parameters,\n",
    "    param_name='spot',\n",
    "    param_values=np.linspace(60, 140, 9),\n",
    "    base_dir=MAIN_PLOTS\n",
    ")"
   ]
  },
  {
   "cell_type": "markdown",
   "id": "447491e8",
   "metadata": {},
   "source": [
    "The range goes from $S=60$ to $S=140$.\n",
    "\n",
    "**European option**: As the initial spot price $S_0$ increases, the option value grows with increasing pace. This occurs because a higher $S_0$ increases the probability that the option will expire in-the-money (i.e. $S_T > K$).  \n",
    "For deep out-the-money options, there is a noticeable discrepancy between the MC and BS results due to the small option values (for both European and binary options). In this case, both the numerator and denominator are close to zero, which leads to higher relative errors, even though the $t$-test does not indicate a significant difference. In general, all other values are all within acceptable statistical bounds. \n",
    "\n",
    "**Binary option**: The behavior of a binary option is similar, but it flattens out more deeply when in-the-money. This occurs because, when $S_0$ is significantly above $K$, the probability of expiring in-the-money approaches $1$, and further increases in $S_0$ offer minimal additional value. At expiry, this curve is just a Heaviside step function $\\mathcal{H}(S_T-K)$.\n",
    "The same observations made about relative difference and t-stat work here as well.  \n",
    "\n",
    "In terms of performance, the three methods yield very similar results for both options. "
   ]
  },
  {
   "cell_type": "markdown",
   "id": "12d1c807",
   "metadata": {},
   "source": [
    "## 5.5 Strike price"
   ]
  },
  {
   "cell_type": "code",
   "execution_count": null,
   "id": "e2192091",
   "metadata": {},
   "outputs": [],
   "source": [
    "strike_results, strike_tables = parameter_analysis(\n",
    "    params_base=base_parameters,\n",
    "    param_name='strike',\n",
    "    param_values=np.linspace(60, 140, 9),\n",
    "    base_dir=MAIN_PLOTS\n",
    ")"
   ]
  },
  {
   "cell_type": "markdown",
   "id": "8ec8573d",
   "metadata": {},
   "source": [
    "This is essentially a mirror image of the previous analysis. Whereas before the spot price $S_0$ varied while keeping the strike price $E$ fixed, now $S_0$ is fixed and $E$ varies. Despite this change in perspective, the relationship between the option value and moneyness remains the same. As $E$ increases relative to the fixed $S_0$, the option becomes less likely to finish in the money, reducing its value — just as decreasing $S_0$ did in the earlier case. \n",
    "A larger relative discrepancy between MC and BS values is again observed for deep out-the-money options."
   ]
  },
  {
   "cell_type": "markdown",
   "id": "f29c90e0",
   "metadata": {},
   "source": [
    "## 5.6 Number of simulations"
   ]
  },
  {
   "cell_type": "code",
   "execution_count": null,
   "id": "aba8e691",
   "metadata": {},
   "outputs": [],
   "source": [
    "sim_results, sim_tables = parameter_analysis(\n",
    "    params_base=base_parameters,\n",
    "    param_name='nsim',\n",
    "    param_values=np.linspace(1000, 100000, 10).astype(int),\n",
    "    base_dir=MAIN_PLOTS\n",
    ")"
   ]
  },
  {
   "cell_type": "markdown",
   "id": "b071a073",
   "metadata": {},
   "source": [
    "The number of simulations performed span from 1000 to 100000.\n",
    "\n",
    "**European option**: In this case the option price is supposed to remain the same, but the accuracy increases. This can be seen by the standard error, which scales as $1/\\sqrt{N}$. The relative distance between MC and BS values is relevant only for 1000 simulations, and then becomes stable. The standard error starting at $\\sim 45\\%$ drops to $\\sim 4.7\\%$ for 100000 events. \n",
    "\n",
    "**Binary option**: The same arguments work here as well, with the capped standard error decreasing at rate $1 / \\sqrt{N}$, and reaching the already seen value of $0.15\\%$ for 100000 simulations."
   ]
  },
  {
   "cell_type": "markdown",
   "id": "4a56c81f",
   "metadata": {},
   "source": [
    "## 5.7 Number of time steps"
   ]
  },
  {
   "cell_type": "code",
   "execution_count": null,
   "id": "93b88b46",
   "metadata": {},
   "outputs": [],
   "source": [
    "steps_results, steps_tables = parameter_analysis(\n",
    "    params_base=base_parameters,\n",
    "    param_name='nsteps',\n",
    "    param_values=np.linspace(1, 600, 10).astype(int),\n",
    "    base_dir=MAIN_PLOTS\n",
    ")"
   ]
  },
  {
   "cell_type": "markdown",
   "id": "a06f8ad3",
   "metadata": {},
   "source": [
    "Both European and binary options are path-independent, as they only depend on the value at expiry. Despite this, a convergence trend is observed as the number of time steps increases.\n",
    "\n",
    "**European option**: Euler and Milstein methods fail to provide acceptable results at the 95% confidence level for one time step, but rapidly improve with more steps, while the closed-form solution remains stable. This behavior likely stems from the limited accuracy of the discretization, which introduces a bias of order $\\mathcal{O}(\\Delta t)$. In the case of a single step, this results in a non-negligible discrepancy from the Black–Scholes benchmark.\n",
    "\n",
    "**Binary option**: In this case the Milstein method seems to perform as well as the closed form solution, while the Euler method still fails to provide an acceptable result.\n",
    "\n",
    "Here is a possible explanation: Milstein captures the mean and variance of $S_T$ correctly to leading order in $\\Delta t$, yielding a good estimate of the crossing probability. On the other hand, Euler’s incorrect variance leads to a biased estimate of $\\mathbb{P}(S_T \\ge K)$. For the European call, however, the expected payoff is sensitive not only to mean and variance but also to higher moments of the distribution. While Milstein has weak order 1, the error from a single large step introduces a bias of order $\\mathcal{O}(1)$, which is significant for this type of payoff. As a result, more time steps are required to accurately capture the shape of the payoff distribution and reduce this bias."
   ]
  },
  {
   "cell_type": "markdown",
   "id": "99425b60",
   "metadata": {},
   "source": [
    "---"
   ]
  },
  {
   "cell_type": "markdown",
   "id": "768bd3c4",
   "metadata": {},
   "source": [
    "# 6. Asymptotic behaviours \n",
    "\n",
    "In this section the asymptotic behaviour of the option prices is explored. Here the scope is just to show the theoretical curve obtained for the option prices under the Black-Scholes framework, and the parameters reach values far beyond the real world scenarios. Therefore, the MC results are not reported, and only plots will be retained, since tables won't be necessary."
   ]
  },
  {
   "cell_type": "code",
   "execution_count": null,
   "id": "aa483ff3",
   "metadata": {},
   "outputs": [],
   "source": [
    "ASYMPTOTIC_DIR = 'asymptotic_plots'\n",
    "\n",
    "def asymptotic_analysis(params_base, param_name, param_values, base_dir=ASYMPTOTIC_DIR):\n",
    "    \n",
    "    if param_name not in PARAM_KEY_MAP:\n",
    "        raise ValueError(f\"Unsupported parameter: {param_name}\")\n",
    "\n",
    "    out_dir = os.path.join(base_dir, f\"{param_name}\")\n",
    "    os.makedirs(out_dir, exist_ok=True)\n",
    "\n",
    "    euro_vals = []\n",
    "    binary_vals = []\n",
    "\n",
    "    for val in param_values:\n",
    "        p = params_base.copy()\n",
    "        p[PARAM_KEY_MAP[param_name]] = float(val)\n",
    "\n",
    "        opt = OptionPricing(\n",
    "            terminal_prices=None,\n",
    "            strike=p['strike_price'],\n",
    "            spot=p['spot_price'],\n",
    "            T=p['time_to_expiry'],\n",
    "            vol=p['volatility'],\n",
    "            rate=p['risk_free_rate']\n",
    "        )\n",
    "        euro_vals.append(opt.bs_european())\n",
    "        binary_vals.append(opt.bs_binary())\n",
    "\n",
    "    # European plot\n",
    "    plt.figure(figsize=(8, 6), dpi=300)\n",
    "    plt.plot(param_values, euro_vals, marker='', linestyle='-')\n",
    "    plt.title(f\"European Call – {PARAM_DISPLAY[param_name][1]} Sensitivity\")\n",
    "    plt.xlabel(PARAM_DISPLAY[param_name][0])\n",
    "    plt.ylabel('Option Price')\n",
    "    plt.grid(True, alpha=0.3)\n",
    "    plt.tight_layout()\n",
    "    euro_path = os.path.join(out_dir, f\"{param_name}_european.png\")\n",
    "    plt.savefig(euro_path, bbox_inches='tight')\n",
    "    plt.close()\n",
    "\n",
    "    # Binary plot\n",
    "    plt.figure(figsize=(8, 6), dpi=300)\n",
    "    plt.plot(param_values, binary_vals, marker='', linestyle='-')\n",
    "    plt.title(f\"Binary Call – {PARAM_DISPLAY[param_name][1]} Sensitivity\")\n",
    "    plt.xlabel(PARAM_DISPLAY[param_name][0])\n",
    "    plt.ylabel('Option Price')\n",
    "    plt.grid(True, alpha=0.3)\n",
    "    plt.tight_layout()\n",
    "    binary_path = os.path.join(out_dir, f\"{param_name}_binary.png\")\n",
    "    plt.savefig(binary_path, bbox_inches='tight')\n",
    "    plt.close()\n",
    "\n",
    "    return {'european': euro_path, 'binary': binary_path}"
   ]
  },
  {
   "cell_type": "markdown",
   "id": "0a174d83",
   "metadata": {},
   "source": [
    "## 6.1 Volatility"
   ]
  },
  {
   "cell_type": "code",
   "execution_count": null,
   "id": "ddbe41e9",
   "metadata": {},
   "outputs": [],
   "source": [
    "asymptotic_analysis(\n",
    "    params_base=base_parameters,\n",
    "    param_name='volatility',\n",
    "    param_values=np.linspace(0.1, 8.0, 30),\n",
    ")\n",
    "\n",
    "display_plots('volatility', ASYMPTOTIC_DIR)"
   ]
  },
  {
   "cell_type": "markdown",
   "id": "cb8d9eb7",
   "metadata": {},
   "source": [
    "**European option**: The value increases with volatility and approaches a plateau for $\\sigma \\gtrsim 5$. According to the Black-Scholes pricing formula, this behavior is expected: as $\\sigma \\to \\infty$, the call price tends to $S_0$, since $N(d_1) \\to 1$ and $N(d_2) \\to 0$.\n",
    "\n",
    "**Binary option**: The value is essentially proportional to $N(d_2)$, with the discount factor acting only as a constant scaling term when $r$ and $T$ are fixed, and therefore tends to zero as $\\sigma$ increases."
   ]
  },
  {
   "cell_type": "markdown",
   "id": "b45d1f45",
   "metadata": {},
   "source": [
    "## 6.2 Risk-free rate"
   ]
  },
  {
   "cell_type": "code",
   "execution_count": null,
   "id": "1e524971",
   "metadata": {},
   "outputs": [],
   "source": [
    "asymptotic_analysis(\n",
    "    params_base=base_parameters,\n",
    "    param_name='rate',\n",
    "    param_values=np.linspace(0.01, 10.0, 30),\n",
    ")\n",
    "\n",
    "display_plots('rate', ASYMPTOTIC_DIR)"
   ]
  },
  {
   "cell_type": "markdown",
   "id": "d7332a34",
   "metadata": {},
   "source": [
    "**European option**: The value asymptotycally approaches $S_0$. This can be seen from the Black-Scholes pricing fomrula, where the discounted term vanishes for  \n",
    "$r \\to \\infty$ and $N(d_1) \\to 1$.\n",
    "\n",
    "**Binary option**: At first the $N(d_2)$ dominates, leading to a growth in value, but as $r \\to \\infty$ the discounting factor wins and the option value falls towards zero."
   ]
  },
  {
   "cell_type": "markdown",
   "id": "3ea98662",
   "metadata": {},
   "source": [
    "## 6.3 Time to expiry"
   ]
  },
  {
   "cell_type": "code",
   "execution_count": null,
   "id": "51de8c02",
   "metadata": {},
   "outputs": [],
   "source": [
    "asymptotic_analysis(\n",
    "    params_base=base_parameters,\n",
    "    param_name='expiry',\n",
    "    param_values=np.linspace(0.2, 30.0, 30),\n",
    ")\n",
    "\n",
    "display_plots('expiry', ASYMPTOTIC_DIR)"
   ]
  },
  {
   "cell_type": "markdown",
   "id": "285ea6d0",
   "metadata": {},
   "source": [
    "**European option**: The behavior of the option price as time to expiry varies mirrors the considerations made in the limit of the risk-free rate, resulting in a plateau at  \n",
    "$S_0$. However, the convergence is slower in this case due to the asymptotic behavior $$d_1(T) \\sim \\frac{T}{\\sqrt{T}}$$ in contrast to the linear dependence $d_1(T) \\sim r$ observed in the risk-free rate analysis.\n",
    "\n",
    "**Binary option**: For similar reasons, the option price initially increases and then decreases as expiry grows, but at a different rate due to the distinct asymptotic behavior of the relevant terms."
   ]
  },
  {
   "cell_type": "markdown",
   "id": "ee754d03",
   "metadata": {},
   "source": [
    "## 6.4 Spot and Strike price\n",
    "\n",
    "Using a wider range than the the one used before $(60 \\leq S_0 \\leq 140)$ wouldn't add anything interesting. In turn, it is worth looking at the shape of the option value versus spot price as the time to expiry gets smaller. "
   ]
  },
  {
   "cell_type": "code",
   "execution_count": null,
   "id": "6dc995d6",
   "metadata": {},
   "outputs": [],
   "source": [
    "base_parameters['time_to_expiry'] = 0.001\n",
    "\n",
    "spot_lim2, spot_tables_lim2 = asymptotic_analysis(\n",
    "    params_base=base_parameters,\n",
    "    param_name='spot',\n",
    "    param_values=np.linspace(60, 140, 100),\n",
    ")\n",
    "\n",
    "display_plots('spot', ASYMPTOTIC_DIR)"
   ]
  },
  {
   "cell_type": "markdown",
   "id": "ad8be58f",
   "metadata": {},
   "source": [
    "In both cases the option value is very close to the payoff function, with a time to expiry of less than 9 hours.\n",
    "\n",
    "**European option**: With a very close the expiration date, the value curve tends to a limit where the option price is zero for $S_T \\leq K$ and enters a liner regime for $S_T > K$, corresponding to the option's payoff structure.\n",
    "\n",
    "**Binary option**: The option price curve approaches a step function, where the step happens at the strike price. A finer granularity was used to improve the quality of the plot (more points help to visualize the actual behaviour of the price function, which is discontinuous).\n",
    "\n",
    "The same thing can be seen when studying the variation of the strike price, but the plots will be the mirror image with respect to the vertical axis placed at $E=100$."
   ]
  },
  {
   "cell_type": "markdown",
   "id": "3d7e4bde",
   "metadata": {},
   "source": [
    "---"
   ]
  },
  {
   "cell_type": "markdown",
   "id": "9275e54d",
   "metadata": {},
   "source": [
    "# 7. Moneyness analysis\n",
    "\n",
    "Up to this point, the analysis has assumed the initial condition $S_0 = E = 100$ for the underlying stock. It is insightful to investigate how option prices behave when this initial condition is varied, while repeating the parameter sweeps over volatility, risk-free rate, and time to maturity.\n",
    "\n",
    "To explore this, 3D surface plots are generated with axes representing moneyness (defined as $S_0 / E$), the selected Black-Scholes parameter ($\\sigma, r, T$), and the option price on the $z$-axis. To aid interpretation of the resulting surfaces, a color gradient legend is included alongside each plot. Additionally, three red guide lines are drawn at $S_0 / E = \\{0.8, \\, 1.0, \\, 1.2\\}$ to highlight the differences in option price behavior under these scenarios.\n",
    "\n",
    "The following abbreviations will be used from here onrwards:\n",
    "- Out-the-money $\\to$ OTM\n",
    "- At-the-money $\\to$ ATM\n",
    "- In-the-money $\\to$ ITM"
   ]
  },
  {
   "cell_type": "code",
   "execution_count": null,
   "id": "7561326b",
   "metadata": {},
   "outputs": [],
   "source": [
    "PLOTS_3D_DIR = 'plots_3d'\n",
    "\n",
    "def surface_param_moneyness(\n",
    "    strike,\n",
    "    base_params,\n",
    "    param_name,\n",
    "    param_values,\n",
    "    moneyness_values,\n",
    "    base_dir=PLOTS_3D_DIR\n",
    "):\n",
    "    \"\"\"\n",
    "    Generates 3D surface plots for European and Binary call prices over a chosen Black–Scholes parameter and varying moneyness.\n",
    "    \"\"\"\n",
    "\n",
    "    if param_name not in ('volatility', 'risk_free_rate', 'time_to_expiry'):\n",
    "        raise ValueError(\"param_name must be 'volatility', 'risk_free_rate', or 'time_to_expiry'\")\n",
    "\n",
    "    sigma0 = base_params['volatility']\n",
    "    r0     = base_params['rate']\n",
    "    T0     = base_params['expiry']\n",
    "\n",
    "    # Build grids\n",
    "    Param, Moneyness = np.meshgrid(param_values, moneyness_values)\n",
    "    prices = {'binary': np.zeros_like(Param),\n",
    "              'european': np.zeros_like(Param)}\n",
    "\n",
    "    for i in range(Param.shape[0]):\n",
    "        for j in range(Param.shape[1]):\n",
    "            val = Param[i, j]\n",
    "            sigma, r, TT = sigma0, r0, T0\n",
    "            if param_name == 'volatility':\n",
    "                sigma = val\n",
    "            elif param_name == 'risk_free_rate':\n",
    "                r = val\n",
    "            else:\n",
    "                TT = val\n",
    "\n",
    "            S = Moneyness[i, j] * strike\n",
    "            opt = OptionPricing(\n",
    "                terminal_prices=None,\n",
    "                strike=strike,\n",
    "                spot=S,\n",
    "                T=TT,\n",
    "                vol=sigma,\n",
    "                rate=r\n",
    "            )\n",
    "            prices['binary'][i, j]   = opt.bs_binary()\n",
    "            prices['european'][i, j] = opt.bs_european()\n",
    "\n",
    "    out_dir = os.path.join(base_dir, param_name)\n",
    "    os.makedirs(out_dir, exist_ok=True)\n",
    "\n",
    "    paths = {}\n",
    "    guide_moneyness = (0.8, 1.0, 1.2)\n",
    "\n",
    "    for kind, cmap, title, zlabel in [\n",
    "        ('binary',   'plasma',  'Binary Call Option Price',   'Binary Call Price'),\n",
    "        ('european', 'viridis', 'European Call Option Price', 'European Call Price')\n",
    "    ]:\n",
    "        fig = plt.figure(figsize=(10, 7))\n",
    "        ax = fig.add_subplot(111, projection='3d')\n",
    "\n",
    "        surf = ax.plot_surface(\n",
    "            Param,\n",
    "            Moneyness,\n",
    "            prices[kind],\n",
    "            cmap=cmap,\n",
    "            edgecolor='none',\n",
    "            alpha=0.9\n",
    "        )\n",
    "\n",
    "        ax.set_xlabel(param_name.replace('_', ' ').capitalize())\n",
    "        ax.set_ylabel('Moneyness (S/E)')\n",
    "        ax.set_zlabel(zlabel, labelpad=10)  \n",
    "        ax.set_title(title)\n",
    "\n",
    "        fig.colorbar(surf, ax=ax, pad=0.1, shrink=0.6, aspect=15)\n",
    "\n",
    "        # Red guide lines at fixed moneyness\n",
    "        for money in guide_moneyness:\n",
    "            line_vals = []\n",
    "            for p in param_values:\n",
    "                sigma, r, TT = sigma0, r0, T0\n",
    "                if param_name == 'volatility':\n",
    "                    sigma = p\n",
    "                elif param_name == 'risk_free_rate':\n",
    "                    r = p\n",
    "                else:\n",
    "                    TT = p\n",
    "                S_line = money * strike\n",
    "                op_line = OptionPricing(\n",
    "                    terminal_prices=None,\n",
    "                    strike=strike,\n",
    "                    spot=S_line,\n",
    "                    T=TT,\n",
    "                    vol=sigma,\n",
    "                    rate=r\n",
    "                )\n",
    "                line_vals.append(\n",
    "                    op_line.bs_binary() if kind == 'binary' else op_line.bs_european()\n",
    "                )\n",
    "            ax.plot(\n",
    "                param_values,\n",
    "                [money] * len(param_values),\n",
    "                line_vals,\n",
    "                color='red',\n",
    "                linewidth=2\n",
    "            )\n",
    "\n",
    "        plt.tight_layout()\n",
    "        fig.subplots_adjust(left=0.1, right=0.95, bottom=0.1, top=0.9)\n",
    "\n",
    "        # Save figure\n",
    "        filename = f\"{param_name}_{kind}.png\"\n",
    "        path = os.path.join(out_dir, filename)\n",
    "        plt.savefig(path, bbox_inches='tight')\n",
    "        plt.close(fig)\n",
    "        paths[kind] = path\n",
    "\n",
    "    return paths['european'], paths['binary']"
   ]
  },
  {
   "cell_type": "code",
   "execution_count": null,
   "id": "6141e0e6",
   "metadata": {},
   "outputs": [],
   "source": [
    "base_3d_params = {\n",
    "    'volatility': 0.2,\n",
    "    'rate': 0.05,\n",
    "    'expiry': 1.0\n",
    "}\n",
    "\n",
    "moneyness_vals = np.linspace(0.6, 1.4, 50)"
   ]
  },
  {
   "cell_type": "markdown",
   "id": "62dc0447",
   "metadata": {},
   "source": [
    "## 7.1 Volatility "
   ]
  },
  {
   "cell_type": "code",
   "execution_count": null,
   "id": "990d0b8e",
   "metadata": {},
   "outputs": [],
   "source": [
    "surface_param_moneyness(\n",
    "    strike=100,\n",
    "    base_params=base_3d_params,\n",
    "    param_name='volatility',\n",
    "    param_values=np.linspace(0.01, 1.0, 50),\n",
    "    moneyness_values=moneyness_vals,\n",
    ")\n",
    "\n",
    "display_plots('volatility', PLOTS_3D_DIR)"
   ]
  },
  {
   "cell_type": "markdown",
   "id": "25fe1e4e",
   "metadata": {},
   "source": [
    "**European option**: The option price derivative with respect to $\\sigma$ affects both terms in the Black-Scholes formula, with the most significant impact on the term proportional to $N(d_1)$, which is related to the option’s sensitivity to changes in volatility. The effect of volatility on the option price can be summarized as follows:\n",
    "\n",
    "- If the option is deep ITM, the value of $d_1$ is large and positive, implying that the option price is less sensitive to volatility changes. As a result, increases in $\\sigma$ have a smaller effect on the option price.\n",
    "\n",
    "- If the option is deep OTM, the value of $d_1$ is negative, and the option price is highly sensitive to volatility. In this case, an increase in $\\sigma$ increases the probability of the option finishing ITM, thus increasing the option value.\n",
    "\n",
    "- ATM options experience the most significant change in price with respect to volatility, as the option is most sensitive to small changes in volatility when $S_0 \\approx E$.\n",
    "\n",
    "In general, increasing volatility leads to higher European call option prices, but the effect is more pronounced when the option is closer to being ATM.\n",
    "\n",
    "\n",
    "**Binary option**: Different behaviors can be observed as volatility increases, and the reason lies in the behavior of the factor $d_2$, which is defined as\n",
    "$$\n",
    "d_2 = \\frac{\\ln\\left(\\frac{S_0}{E}\\right) + \\left(r - \\frac{1}{2}\\sigma^2\\right)T}{\\sigma \\sqrt{T}}\n",
    "$$\n",
    "Since the binary option price is essentially proportional to $N(d_2)$, and $N(x)$ is a strictly increasing function, the effect of volatility can be analyzed by examining the partial derivative\n",
    "$$\n",
    "\\frac{\\partial d_2}{\\partial \\sigma} = -\\frac{\\sqrt{T}}{\\sigma^2 T} \\left[ \\sigma^2 T + \\ln\\left(\\frac{S_0}{E}\\right) + \\left(r - \\frac{1}{2}\\sigma^2\\right)T \\right]\n",
    "$$\n",
    "The stationary point $\\frac{\\partial d_2}{\\partial \\sigma} = 0$ can occur only if $\\frac{S_0}{E} < e^{-rT}$, which implies that above this threshold the volatility-price curve is necessarily monotonic, and specifically decreasing. In fact, the derivative is negative when $\\frac{S_0}{E} > e^{-rT - \\frac{1}{2}\\sigma^2 T}$, which always lies below the stationary threshold.\n",
    "\n",
    "By plugging in the values $r = 0.05$ and $T = 1$, one finds that the threshold is approximately $\\frac{S_0}{E} \\approx 0.95$.\n"
   ]
  },
  {
   "cell_type": "markdown",
   "id": "c62a2a68",
   "metadata": {},
   "source": [
    "## 7.2 Risk-free rate"
   ]
  },
  {
   "cell_type": "code",
   "execution_count": null,
   "id": "bd5aed90",
   "metadata": {},
   "outputs": [],
   "source": [
    "surface_param_moneyness(\n",
    "    strike=100,\n",
    "    base_params=base_3d_params,\n",
    "    param_name='risk_free_rate',\n",
    "    param_values=np.linspace(0.04, 0.06, 50),\n",
    "    moneyness_values=moneyness_vals,\n",
    ")\n",
    "\n",
    "display_plots('risk_free_rate', PLOTS_3D_DIR)"
   ]
  },
  {
   "cell_type": "markdown",
   "id": "765f36a2",
   "metadata": {},
   "source": [
    "**European option**: The option price derivative with respect to $r$ only affects the term proportional to $N(d_2)$, and it is easy to show that this derivative is always positive. As a result, the option value increases for any initial condition of the spot price.\n",
    "\n",
    "**Binary option**: Depending on the initial spot price relative to the strike, different scenarios can occur. In this case, the derivative computation is less straightforward, but some qualitative observations can be made:\n",
    "\n",
    "- If the option is deep OTM, the price is highly sensitive to the probability of expiring ITM. A small increase in $N(d_2)$ due to a higher $r$ has a large relative effect. Therefore, the option price increases with higher risk-free rates.\n",
    "\n",
    "- If the option is deep ITM, $N(d_2) \\approx 1$, so it cannot increase much further. However, the discount factor $e^{-rT}$ continues to decrease with increasing $r$, and this effect dominates, causing the option value to decrease.\n"
   ]
  },
  {
   "cell_type": "markdown",
   "id": "7a047b1a",
   "metadata": {},
   "source": [
    "## 7.3 Time to expiry"
   ]
  },
  {
   "cell_type": "code",
   "execution_count": null,
   "id": "245fe5d6",
   "metadata": {},
   "outputs": [],
   "source": [
    "surface_param_moneyness(\n",
    "    strike=100,\n",
    "    base_params=base_3d_params,\n",
    "    param_name='time_to_expiry',\n",
    "    param_values=np.linspace(0.02, 2, 50),\n",
    "    moneyness_values=moneyness_vals,\n",
    ")\n",
    "\n",
    "display_plots('time_to_expiry', PLOTS_3D_DIR)"
   ]
  },
  {
   "cell_type": "markdown",
   "id": "c5451354",
   "metadata": {},
   "source": [
    "**European option**: As $T$ increases, the option generally becomes more valuable due to the convexity of the payoff and the increased chance for the option to end up ITM. This behavior is confirmed mathematically by computing the partial derivative of the price with respect to $T$. For European calls, this derivative is negative for short maturities (i.e., time decay), but the total option value increases when comparing very short $T$ to longer horizons.\n",
    "\n",
    "**Binary option**: This derivative expression is rather complex, but qualitatively it can be said that:\n",
    "- If the option is deep ITM, then $N(d_2) \\approx 1$, and increasing $T$ decreases the price due to the discount factor $e^{-rT}$.\n",
    "- If the option is OTM, increasing $T$ gives more time for the option to potentially become in the money, increasing $N(d_2)$ and thus the overall price, unless the discounting dominates.\n",
    "\n",
    "There is no simple closed-form threshold for when the binary option price switches from increasing to decreasing with $T$, but it depends critically on the relative position of $S_0$ and $E$, and the balance between the increase in $N(d_2)$ and the decay from $e^{-rT}$.\n"
   ]
  },
  {
   "cell_type": "markdown",
   "id": "24a077ee",
   "metadata": {},
   "source": [
    "---"
   ]
  },
  {
   "cell_type": "markdown",
   "id": "69e43fba",
   "metadata": {},
   "source": [
    "# 8. Conclusions\n",
    "\n",
    "This project examined the use of Monte Carlo methods for pricing European and binary call options under the risk-neutral measure, by simulating the dynamics of the underlying stock using various numerical schemes. It began with an overview of Monte Carlo techniques and their relevance in option pricing, followed by the implementation of three methods for generating terminal stock prices: the Euler–Maruyama discretization, the Milstein scheme, and the exact closed-form solution. A convergence study was also conducted for the Euler and Milstein schemes, confirming that both share the same weak convergence order of 1, while the Milstein method exhibits superior strong convergence (order 1 compared to 0.5 for Euler).\n",
    "\n",
    "The characteristics and payoff structures of European and binary call options were then reviewed, along with their analytical pricing formulas under the Black–Scholes framework. The results produced by the three numerical schemes were validated by examining the relative difference between Monte Carlo and Black–Scholes values, as well as the outcomes of $t$-tests. With all parameters held constant, all methods yielded highly accurate and consistent results.  \n",
    "\n",
    "In the sensitivity analysis, the key parameters — volatility $\\sigma$, risk‐free rate $r$, time to expiry $T$, spot price $S_0$, strike price $K$, as well as the number of simulations, and the number of time steps — were varied individually to examine their influence on option prices. To assess the methods performance, the option value obtained using them was compared to the Black-Scholes price using both the relative price distance and the $t$-test.\n",
    "Across all parameter values, the Euler, Milstein, and closed‐form methods produced nearly identical price estimates for both European and binary options, likely due to the large number of simulations and fine time discretization. Although the Milstein scheme is theoretically more accurate in terms of path approximation, this improvement did not manifest in the pricing results, as pathwise errors were not analyzed. Similarly, the closed‐form method, which provides an exact solution to the stochastic differential equation, is expected to offer the least bias; however, no clear advantage was observed under the tested conditions.  \n",
    "\n",
    "Asymptotic behaviors were then examined, with particular attention to the limiting behavior of option prices rather than the performance of the Monte Carlo methods; in these cases, only Black–Scholes values were considered. A final analysis of moneyness was conducted to investigate how pricing curves evolve with variations in the ratio $S_0/K$, observing that the option price could either increase or decrease in the different scenarios."
   ]
  },
  {
   "cell_type": "markdown",
   "id": "c649e03b",
   "metadata": {},
   "source": [
    "---"
   ]
  },
  {
   "cell_type": "markdown",
   "id": "bae81232",
   "metadata": {},
   "source": [
    "# 9. References\n",
    "\n",
    "- Jäckel, P. (2002) - Monte Carlo Methods in Finance\n",
    "- https://hautahi.com/sde_simulation"
   ]
  }
 ],
 "metadata": {
  "kernelspec": {
   "display_name": ".venv",
   "language": "python",
   "name": "python3"
  },
  "language_info": {
   "codemirror_mode": {
    "name": "ipython",
    "version": 3
   },
   "file_extension": ".py",
   "mimetype": "text/x-python",
   "name": "python",
   "nbconvert_exporter": "python",
   "pygments_lexer": "ipython3",
   "version": "3.10.16"
  }
 },
 "nbformat": 4,
 "nbformat_minor": 5
}
